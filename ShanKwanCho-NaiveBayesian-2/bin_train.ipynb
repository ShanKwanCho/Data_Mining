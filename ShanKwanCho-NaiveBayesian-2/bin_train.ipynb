{
  "nbformat": 4,
  "nbformat_minor": 0,
  "metadata": {
    "colab": {
      "name": "bin_train.ipynb",
      "version": "0.3.2",
      "provenance": []
    },
    "kernelspec": {
      "name": "python3",
      "display_name": "Python 3"
    },
    "accelerator": "GPU"
  },
  "cells": [
    {
      "metadata": {
        "id": "tCMh5wXTn3qq",
        "colab_type": "code",
        "colab": {}
      },
      "cell_type": "code",
      "source": [
        "import numpy as np\n",
        "import pandas as pd"
      ],
      "execution_count": 0,
      "outputs": []
    },
    {
      "metadata": {
        "id": "s4d5LRinoPtz",
        "colab_type": "code",
        "colab": {
          "base_uri": "https://localhost:8080/",
          "height": 54
        },
        "outputId": "c7cd39b0-dd31-4bbf-a235-af93c5ee562e"
      },
      "cell_type": "code",
      "source": [
        "# Load the Drive helper and mount.\n",
        "from google.colab import drive \n",
        "\n",
        "# This will prompt for authorization.\n",
        "drive.mount('/content/drive')"
      ],
      "execution_count": 2,
      "outputs": [
        {
          "output_type": "stream",
          "text": [
            "Drive already mounted at /content/drive; to attempt to forcibly remount, call drive.mount(\"/content/drive\", force_remount=True).\n"
          ],
          "name": "stdout"
        }
      ]
    },
    {
      "metadata": {
        "id": "qkRfYh6_oRX1",
        "colab_type": "code",
        "colab": {}
      },
      "cell_type": "code",
      "source": [
        "df = pd.read_csv(('train_replaceData2.csv'), header = None)"
      ],
      "execution_count": 0,
      "outputs": []
    },
    {
      "metadata": {
        "id": "2ht6VVsaoXzx",
        "colab_type": "code",
        "colab": {}
      },
      "cell_type": "code",
      "source": [
        "df.columns = ['age', 'workclass', 'education', 'marital-status','occupation', 'relationship','race', 'sex', 'capital-gain', 'capital-loss', 'hours-per-week', 'native-country', 'income']"
      ],
      "execution_count": 0,
      "outputs": []
    },
    {
      "metadata": {
        "id": "S1hV7X6mobaT",
        "colab_type": "code",
        "colab": {}
      },
      "cell_type": "code",
      "source": [
        "# put ages in categories and add as columns to Dataframe\n",
        "age_bins = [0,25,45,65,150]\n",
        "age_labels = [\"Young\",\"Middle_aged\",\"Senior\",\"Old\"]\n",
        "df['age_cat'] = pd.cut(df['age'],age_bins, labels=age_labels,right=True, include_lowest=True)\n",
        "  "
      ],
      "execution_count": 0,
      "outputs": []
    },
    {
      "metadata": {
        "id": "34Ph0T6KomIS",
        "colab_type": "code",
        "colab": {}
      },
      "cell_type": "code",
      "source": [
        "# put capital_gain in categories and add as columns to Dataframe\n",
        "capital_gain_bins = [0,25,45,65,150]\n",
        "capital_gain_labels = [\"CG_1\",\"CG_2\",\"CG_3\",\"CG_4\"]\n",
        "df['capital_gain_cat'] = pd.cut(df['capital_gain'],capital_gain_bins, labels=capital_gain_labels,right=True, include_lowest=True)"
      ],
      "execution_count": 0,
      "outputs": []
    },
    {
      "metadata": {
        "id": "iXYLBkeIuWs4",
        "colab_type": "code",
        "colab": {}
      },
      "cell_type": "code",
      "source": [
        "# put capital_loss in categories and add as columns to Dataframe\n",
        "capital_loss_bins = [0,25,45,65,150]\n",
        "capital_loss_labels = [\"CL_1\",\"CL_2\",\"CL_3\",\"CL_4\"]\n",
        "df['capital_loss_cat'] = pd.cut(df['capital_loss'],capital_loss_bins, labels=capital_loss_labels,right=True, include_lowest=True)"
      ],
      "execution_count": 0,
      "outputs": []
    },
    {
      "metadata": {
        "id": "UDqBpO3FuhfA",
        "colab_type": "code",
        "colab": {}
      },
      "cell_type": "code",
      "source": [
        "# put hours_per_week in categories and add as columns to Dataframe\n",
        "hours_per_week_bins = [0,25,45,65,150]\n",
        "hours_per_week_labels = [\"HW_1\",\"HW_2\",\"HW_3\",\"HW_4\"]\n",
        "df['hours_per_week_cat'] = pd.cut(df['hours_per_week'],hours_per_week_bins, labels=hours_per_week_labels,right=True, include_lowest=True)"
      ],
      "execution_count": 0,
      "outputs": []
    },
    {
      "metadata": {
        "id": "JMPy0cQhuzhp",
        "colab_type": "code",
        "colab": {}
      },
      "cell_type": "code",
      "source": [
        "df.head()"
      ],
      "execution_count": 0,
      "outputs": []
    }
  ]
}