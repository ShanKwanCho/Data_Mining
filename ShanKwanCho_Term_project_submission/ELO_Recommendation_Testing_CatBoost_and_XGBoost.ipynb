{
  "nbformat": 4,
  "nbformat_minor": 0,
  "metadata": {
    "colab": {
      "name": "ELO_Recommendation_Testing CatBoost and XGBoost.ipynb",
      "version": "0.3.2",
      "provenance": [],
      "collapsed_sections": []
    },
    "language_info": {
      "codemirror_mode": {
        "name": "ipython",
        "version": 3
      },
      "file_extension": ".py",
      "mimetype": "text/x-python",
      "name": "python",
      "nbconvert_exporter": "python",
      "pygments_lexer": "ipython3",
      "version": "3.6.6"
    },
    "kernelspec": {
      "name": "python3",
      "display_name": "Python 3"
    },
    "accelerator": "GPU"
  },
  "cells": [
    {
      "cell_type": "markdown",
      "metadata": {
        "id": "kLOj1YVKG5CD",
        "colab_type": "text"
      },
      "source": [
        "# 1. Import Libraries and Set up Dependencies"
      ]
    },
    {
      "cell_type": "code",
      "metadata": {
        "colab_type": "code",
        "id": "0ML6a6pB_f9N",
        "colab": {}
      },
      "source": [
        "import os\n",
        "import pandas as pd\n",
        "import seaborn as sns\n",
        "import numpy as np\n",
        "import matplotlib.pyplot as plt\n",
        "%matplotlib inline\n",
        "import missingno.missingno as ms\n",
        "import datetime\n",
        "import gc\n",
        "import lightgbm as lgb\n",
        "from sklearn.model_selection import StratifiedKFold\n",
        "from sklearn.metrics import mean_squared_error\n",
        "import warnings\n",
        "warnings.filterwarnings('ignore')\n",
        "np.random.seed(4590)"
      ],
      "execution_count": 0,
      "outputs": []
    },
    {
      "cell_type": "markdown",
      "metadata": {
        "id": "m44xU98zHRJ7",
        "colab_type": "text"
      },
      "source": [
        "# 2. Obtain Data"
      ]
    },
    {
      "cell_type": "code",
      "metadata": {
        "colab_type": "code",
        "id": "UbP5yHIz_itg",
        "colab": {}
      },
      "source": [
        "if not os.path.isfile('./train.csv') and not os.path.isfile('./test.csv'):\n",
        "  # Install Kaggle API for download competition data\n",
        "  !pip3 install -q kaggle\n",
        "  # enter your Kaggle credentionals here\n",
        "  os.environ['KAGGLE_USERNAME']=\"shancho\"\n",
        "  os.environ['KAGGLE_KEY']=\"761769e99826fd2d29a4f57bc76fbeb4\"\n",
        "\n",
        "  # If you are unable to download the competition dataset, check to see if you have \n",
        "  # accepted the user agreement on the competition website. \n",
        "  !kaggle competitions download -c elo-merchant-category-recommendation"
      ],
      "execution_count": 0,
      "outputs": []
    },
    {
      "cell_type": "code",
      "metadata": {
        "colab_type": "code",
        "id": "tL-LxWs1_1pV",
        "outputId": "63c6ed77-b62e-42c0-fdbf-604410fb9e43",
        "colab": {
          "base_uri": "https://localhost:8080/",
          "height": 255
        }
      },
      "source": [
        "!ls -l"
      ],
      "execution_count": 3,
      "outputs": [
        {
          "output_type": "stream",
          "text": [
            "total 3644680\n",
            "-rw-r--r-- 1 root root      17600 May 25 16:29 Data_Dictionary.xlsx\n",
            "---------- 1 root root 2845920484 Nov 23  2018 historical_transactions.csv\n",
            "-rw-r--r-- 1 root root  564605581 May 25 16:29 historical_transactions.csv.zip\n",
            "---------- 1 root root   50040976 Nov 23  2018 merchants.csv\n",
            "-rw-r--r-- 1 root root   12817526 May 25 16:29 merchants.csv.zip\n",
            "---------- 1 root root  190246145 Nov 23  2018 new_merchant_transactions.csv\n",
            "-rw-r--r-- 1 root root   51292036 May 25 16:29 new_merchant_transactions.csv.zip\n",
            "drwxr-xr-x 1 root root       4096 May 22 16:22 sample_data\n",
            "-rw-r--r-- 1 root root     858459 May 25 16:29 sample_submission.csv.zip\n",
            "---------- 1 root root    3708740 Nov 23  2018 test.csv\n",
            "-rw-r--r-- 1 root root    1146203 May 25 16:29 test.csv.zip\n",
            "---------- 1 root root    8383651 Nov 23  2018 train.csv\n",
            "-rw-r--r-- 1 root root    3076675 May 25 16:29 train.csv.zip\n"
          ],
          "name": "stdout"
        }
      ]
    },
    {
      "cell_type": "code",
      "metadata": {
        "colab_type": "code",
        "id": "csWXFOty__KC",
        "outputId": "a059738d-2197-4834-b974-49ce3255d5bb",
        "colab": {
          "base_uri": "https://localhost:8080/",
          "height": 374
        }
      },
      "source": [
        "!unzip test.csv.zip \n",
        "!unzip train.csv.zip\n",
        "!unzip historical_transactions.csv.zip\n",
        "!unzip merchants.csv.zip\n",
        "!unzip new_merchant_transactions.csv.zip\n",
        "!unzip test.csv.zip\n",
        "!unzip train.csv.zip"
      ],
      "execution_count": 4,
      "outputs": [
        {
          "output_type": "stream",
          "text": [
            "Archive:  test.csv.zip\n",
            "replace test.csv? [y]es, [n]o, [A]ll, [N]one, [r]ename: Y\n",
            "  inflating: test.csv                \n",
            "Archive:  train.csv.zip\n",
            "replace train.csv? [y]es, [n]o, [A]ll, [N]one, [r]ename: Y\n",
            "  inflating: train.csv               \n",
            "Archive:  historical_transactions.csv.zip\n",
            "replace historical_transactions.csv? [y]es, [n]o, [A]ll, [N]one, [r]ename: Y\n",
            "  inflating: historical_transactions.csv  \n",
            "Archive:  merchants.csv.zip\n",
            "replace merchants.csv? [y]es, [n]o, [A]ll, [N]one, [r]ename: Y\n",
            "  inflating: merchants.csv           \n",
            "Archive:  new_merchant_transactions.csv.zip\n",
            "replace new_merchant_transactions.csv? [y]es, [n]o, [A]ll, [N]one, [r]ename: Y\n",
            "  inflating: new_merchant_transactions.csv  \n",
            "Archive:  test.csv.zip\n",
            "replace test.csv? [y]es, [n]o, [A]ll, [N]one, [r]ename: Y\n",
            "  inflating: test.csv                \n",
            "Archive:  train.csv.zip\n",
            "replace train.csv? [y]es, [n]o, [A]ll, [N]one, [r]ename: Y\n",
            "  inflating: train.csv               \n"
          ],
          "name": "stdout"
        }
      ]
    },
    {
      "cell_type": "code",
      "metadata": {
        "colab_type": "code",
        "id": "CC3fDufTAB0M",
        "outputId": "dc38a116-ad2a-4b35-f36a-921c92c5ba94",
        "colab": {
          "base_uri": "https://localhost:8080/",
          "height": 255
        }
      },
      "source": [
        "ls -l"
      ],
      "execution_count": 6,
      "outputs": [
        {
          "output_type": "stream",
          "text": [
            "total 3644680\n",
            "-rw-r--r-- 1 root root      17600 May 25 16:29 Data_Dictionary.xlsx\n",
            "---------- 1 root root 2845920484 Nov 23  2018 historical_transactions.csv\n",
            "-rw-r--r-- 1 root root  564605581 May 25 16:29 historical_transactions.csv.zip\n",
            "---------- 1 root root   50040976 Nov 23  2018 merchants.csv\n",
            "-rw-r--r-- 1 root root   12817526 May 25 16:29 merchants.csv.zip\n",
            "---------- 1 root root  190246145 Nov 23  2018 new_merchant_transactions.csv\n",
            "-rw-r--r-- 1 root root   51292036 May 25 16:29 new_merchant_transactions.csv.zip\n",
            "drwxr-xr-x 1 root root       4096 May 22 16:22 \u001b[0m\u001b[01;34msample_data\u001b[0m/\n",
            "-rw-r--r-- 1 root root     858459 May 25 16:29 sample_submission.csv.zip\n",
            "---------- 1 root root    3708740 Nov 23  2018 test.csv\n",
            "-rw-r--r-- 1 root root    1146203 May 25 16:29 test.csv.zip\n",
            "---------- 1 root root    8383651 Nov 23  2018 train.csv\n",
            "-rw-r--r-- 1 root root    3076675 May 25 16:29 train.csv.zip\n"
          ],
          "name": "stdout"
        }
      ]
    },
    {
      "cell_type": "code",
      "metadata": {
        "colab_type": "code",
        "id": "x9VY0fJ4AjdY",
        "colab": {}
      },
      "source": [
        "\n",
        "!chmod 777 *.csv #make the file readable, writable and executable by everyone/ assigning permissions"
      ],
      "execution_count": 0,
      "outputs": []
    },
    {
      "cell_type": "code",
      "metadata": {
        "colab_type": "code",
        "id": "q7HmGmYgA5wE",
        "colab": {}
      },
      "source": [
        "df_train = pd.read_csv('train.csv')\n",
        "df_test = pd.read_csv('test.csv')\n",
        "df_hist_trans = pd.read_csv('historical_transactions.csv')\n",
        "df_new_merchant_trans = pd.read_csv('new_merchant_transactions.csv')"
      ],
      "execution_count": 0,
      "outputs": []
    },
    {
      "cell_type": "markdown",
      "metadata": {
        "id": "NWgjf55jGq50",
        "colab_type": "text"
      },
      "source": [
        "# Reduce Memory "
      ]
    },
    {
      "cell_type": "code",
      "metadata": {
        "colab_type": "code",
        "id": "klvd3-3CA_IN",
        "colab": {}
      },
      "source": [
        "def reduce_mem_usage(df, verbose=True):\n",
        "    numerics = ['int16', 'int32', 'int64', 'float16', 'float32', 'float64']\n",
        "    start_mem = df.memory_usage().sum() / 1024**2    \n",
        "    for col in df.columns:\n",
        "        col_type = df[col].dtypes\n",
        "        if col_type in numerics:\n",
        "            c_min = df[col].min()\n",
        "            c_max = df[col].max()\n",
        "            if str(col_type)[:3] == 'int':\n",
        "                if c_min > np.iinfo(np.int8).min and c_max < np.iinfo(np.int8).max:\n",
        "                    df[col] = df[col].astype(np.int8)\n",
        "                elif c_min > np.iinfo(np.int16).min and c_max < np.iinfo(np.int16).max:\n",
        "                    df[col] = df[col].astype(np.int16)\n",
        "                elif c_min > np.iinfo(np.int32).min and c_max < np.iinfo(np.int32).max:\n",
        "                    df[col] = df[col].astype(np.int32)\n",
        "                elif c_min > np.iinfo(np.int64).min and c_max < np.iinfo(np.int64).max:\n",
        "                    df[col] = df[col].astype(np.int64)  \n",
        "            else:\n",
        "                if c_min > np.finfo(np.float16).min and c_max < np.finfo(np.float16).max:\n",
        "                    df[col] = df[col].astype(np.float16)\n",
        "                elif c_min > np.finfo(np.float32).min and c_max < np.finfo(np.float32).max:\n",
        "                    df[col] = df[col].astype(np.float32)\n",
        "                else:\n",
        "                    df[col] = df[col].astype(np.float64)    \n",
        "    end_mem = df.memory_usage().sum() / 1024**2\n",
        "    if verbose: print('Mem. usage decreased to {:5.2f} Mb ({:.1f}% reduction)'.format(end_mem, 100 * (start_mem - end_mem) / start_mem))\n",
        "    return df"
      ],
      "execution_count": 0,
      "outputs": []
    },
    {
      "cell_type": "code",
      "metadata": {
        "colab_type": "code",
        "id": "AdFecAXuBgeu",
        "outputId": "9c6c9354-363b-46da-c6a7-ffaed06fb9ea",
        "colab": {
          "base_uri": "https://localhost:8080/",
          "height": 51
        }
      },
      "source": [
        "#Reducing the memory usage for historical_Transaction and new_merchant_transaction data.\n",
        "df_hist_trans = reduce_mem_usage(df_hist_trans)\n",
        "df_new_merchant_trans = reduce_mem_usage(df_new_merchant_trans)"
      ],
      "execution_count": 10,
      "outputs": [
        {
          "output_type": "stream",
          "text": [
            "Mem. usage decreased to 1749.11 Mb (43.7% reduction)\n",
            "Mem. usage decreased to 114.20 Mb (45.5% reduction)\n"
          ],
          "name": "stdout"
        }
      ]
    },
    {
      "cell_type": "markdown",
      "metadata": {
        "id": "w-RQKB8mGxBH",
        "colab_type": "text"
      },
      "source": [
        "# Data Exploring"
      ]
    },
    {
      "cell_type": "code",
      "metadata": {
        "id": "k23fsoiBEyzO",
        "colab_type": "code",
        "outputId": "a03f490b-485a-4256-be1e-ff7faed24e56",
        "colab": {
          "base_uri": "https://localhost:8080/",
          "height": 340
        }
      },
      "source": [
        "df_hist_trans.info()"
      ],
      "execution_count": 11,
      "outputs": [
        {
          "output_type": "stream",
          "text": [
            "<class 'pandas.core.frame.DataFrame'>\n",
            "RangeIndex: 29112361 entries, 0 to 29112360\n",
            "Data columns (total 14 columns):\n",
            "authorized_flag         object\n",
            "card_id                 object\n",
            "city_id                 int16\n",
            "category_1              object\n",
            "installments            int16\n",
            "category_3              object\n",
            "merchant_category_id    int16\n",
            "merchant_id             object\n",
            "month_lag               int8\n",
            "purchase_amount         float32\n",
            "purchase_date           object\n",
            "category_2              float16\n",
            "state_id                int8\n",
            "subsector_id            int8\n",
            "dtypes: float16(1), float32(1), int16(3), int8(3), object(6)\n",
            "memory usage: 1.7+ GB\n"
          ],
          "name": "stdout"
        }
      ]
    },
    {
      "cell_type": "code",
      "metadata": {
        "id": "bskIsdB8FWHZ",
        "colab_type": "code",
        "outputId": "93cedf7a-b2b7-4037-a8b9-c705a3115474",
        "colab": {
          "base_uri": "https://localhost:8080/",
          "height": 297
        }
      },
      "source": [
        "df_hist_trans.describe()"
      ],
      "execution_count": 12,
      "outputs": [
        {
          "output_type": "execute_result",
          "data": {
            "text/html": [
              "<div>\n",
              "<style scoped>\n",
              "    .dataframe tbody tr th:only-of-type {\n",
              "        vertical-align: middle;\n",
              "    }\n",
              "\n",
              "    .dataframe tbody tr th {\n",
              "        vertical-align: top;\n",
              "    }\n",
              "\n",
              "    .dataframe thead th {\n",
              "        text-align: right;\n",
              "    }\n",
              "</style>\n",
              "<table border=\"1\" class=\"dataframe\">\n",
              "  <thead>\n",
              "    <tr style=\"text-align: right;\">\n",
              "      <th></th>\n",
              "      <th>city_id</th>\n",
              "      <th>installments</th>\n",
              "      <th>merchant_category_id</th>\n",
              "      <th>month_lag</th>\n",
              "      <th>purchase_amount</th>\n",
              "      <th>category_2</th>\n",
              "      <th>state_id</th>\n",
              "      <th>subsector_id</th>\n",
              "    </tr>\n",
              "  </thead>\n",
              "  <tbody>\n",
              "    <tr>\n",
              "      <th>count</th>\n",
              "      <td>2.911236e+07</td>\n",
              "      <td>2.911236e+07</td>\n",
              "      <td>2.911236e+07</td>\n",
              "      <td>2.911236e+07</td>\n",
              "      <td>2.911236e+07</td>\n",
              "      <td>26459497.0</td>\n",
              "      <td>2.911236e+07</td>\n",
              "      <td>2.911236e+07</td>\n",
              "    </tr>\n",
              "    <tr>\n",
              "      <th>mean</th>\n",
              "      <td>1.293256e+02</td>\n",
              "      <td>6.484954e-01</td>\n",
              "      <td>4.810130e+02</td>\n",
              "      <td>-4.487294e+00</td>\n",
              "      <td>6.134567e-02</td>\n",
              "      <td>NaN</td>\n",
              "      <td>1.056679e+01</td>\n",
              "      <td>2.684839e+01</td>\n",
              "    </tr>\n",
              "    <tr>\n",
              "      <th>std</th>\n",
              "      <td>1.042563e+02</td>\n",
              "      <td>2.795577e+00</td>\n",
              "      <td>2.493757e+02</td>\n",
              "      <td>3.588800e+00</td>\n",
              "      <td>1.123521e+03</td>\n",
              "      <td>0.0</td>\n",
              "      <td>6.366927e+00</td>\n",
              "      <td>9.692793e+00</td>\n",
              "    </tr>\n",
              "    <tr>\n",
              "      <th>min</th>\n",
              "      <td>-1.000000e+00</td>\n",
              "      <td>-1.000000e+00</td>\n",
              "      <td>-1.000000e+00</td>\n",
              "      <td>-1.300000e+01</td>\n",
              "      <td>-7.469078e-01</td>\n",
              "      <td>1.0</td>\n",
              "      <td>-1.000000e+00</td>\n",
              "      <td>-1.000000e+00</td>\n",
              "    </tr>\n",
              "    <tr>\n",
              "      <th>25%</th>\n",
              "      <td>5.300000e+01</td>\n",
              "      <td>0.000000e+00</td>\n",
              "      <td>3.070000e+02</td>\n",
              "      <td>-7.000000e+00</td>\n",
              "      <td>-7.203559e-01</td>\n",
              "      <td>1.0</td>\n",
              "      <td>9.000000e+00</td>\n",
              "      <td>1.900000e+01</td>\n",
              "    </tr>\n",
              "    <tr>\n",
              "      <th>50%</th>\n",
              "      <td>9.000000e+01</td>\n",
              "      <td>0.000000e+00</td>\n",
              "      <td>4.540000e+02</td>\n",
              "      <td>-4.000000e+00</td>\n",
              "      <td>-6.883495e-01</td>\n",
              "      <td>1.0</td>\n",
              "      <td>9.000000e+00</td>\n",
              "      <td>2.900000e+01</td>\n",
              "    </tr>\n",
              "    <tr>\n",
              "      <th>75%</th>\n",
              "      <td>2.120000e+02</td>\n",
              "      <td>1.000000e+00</td>\n",
              "      <td>7.050000e+02</td>\n",
              "      <td>-2.000000e+00</td>\n",
              "      <td>-6.032543e-01</td>\n",
              "      <td>3.0</td>\n",
              "      <td>1.600000e+01</td>\n",
              "      <td>3.400000e+01</td>\n",
              "    </tr>\n",
              "    <tr>\n",
              "      <th>max</th>\n",
              "      <td>3.470000e+02</td>\n",
              "      <td>9.990000e+02</td>\n",
              "      <td>8.910000e+02</td>\n",
              "      <td>0.000000e+00</td>\n",
              "      <td>6.010604e+06</td>\n",
              "      <td>5.0</td>\n",
              "      <td>2.400000e+01</td>\n",
              "      <td>4.100000e+01</td>\n",
              "    </tr>\n",
              "  </tbody>\n",
              "</table>\n",
              "</div>"
            ],
            "text/plain": [
              "            city_id  installments  ...      state_id  subsector_id\n",
              "count  2.911236e+07  2.911236e+07  ...  2.911236e+07  2.911236e+07\n",
              "mean   1.293256e+02  6.484954e-01  ...  1.056679e+01  2.684839e+01\n",
              "std    1.042563e+02  2.795577e+00  ...  6.366927e+00  9.692793e+00\n",
              "min   -1.000000e+00 -1.000000e+00  ... -1.000000e+00 -1.000000e+00\n",
              "25%    5.300000e+01  0.000000e+00  ...  9.000000e+00  1.900000e+01\n",
              "50%    9.000000e+01  0.000000e+00  ...  9.000000e+00  2.900000e+01\n",
              "75%    2.120000e+02  1.000000e+00  ...  1.600000e+01  3.400000e+01\n",
              "max    3.470000e+02  9.990000e+02  ...  2.400000e+01  4.100000e+01\n",
              "\n",
              "[8 rows x 8 columns]"
            ]
          },
          "metadata": {
            "tags": []
          },
          "execution_count": 12
        }
      ]
    },
    {
      "cell_type": "code",
      "metadata": {
        "id": "QiPvVM6kHeZN",
        "colab_type": "code",
        "colab": {}
      },
      "source": [
        "ms.matrix(df_hist_trans)"
      ],
      "execution_count": 0,
      "outputs": []
    },
    {
      "cell_type": "code",
      "metadata": {
        "id": "1xJKQj80E8Ci",
        "colab_type": "code",
        "colab": {}
      },
      "source": [
        "df_new_merchant_trans.info()"
      ],
      "execution_count": 0,
      "outputs": []
    },
    {
      "cell_type": "code",
      "metadata": {
        "id": "KrwQ010oFdvG",
        "colab_type": "code",
        "colab": {}
      },
      "source": [
        "df_new_merchant_trans.describe()"
      ],
      "execution_count": 0,
      "outputs": []
    },
    {
      "cell_type": "code",
      "metadata": {
        "id": "x8vz-8vKGN9x",
        "colab_type": "code",
        "colab": {}
      },
      "source": [
        "ms.matrix(df_new_merchant_trans)"
      ],
      "execution_count": 0,
      "outputs": []
    },
    {
      "cell_type": "markdown",
      "metadata": {
        "id": "mV81K3gsR8lH",
        "colab_type": "text"
      },
      "source": [
        "# Data Preprocessing"
      ]
    },
    {
      "cell_type": "code",
      "metadata": {
        "colab_type": "code",
        "id": "KL16N-vXBlrG",
        "colab": {}
      },
      "source": [
        "# Imputing the Nan's with mode.\n",
        "for df in [df_hist_trans,df_new_merchant_trans]:\n",
        "    df['category_2'].fillna(1.0,inplace=True)\n",
        "    df['category_3'].fillna('A',inplace=True)\n",
        "    df['merchant_id'].fillna('M_ID_00a6ca8a8a',inplace=True)"
      ],
      "execution_count": 0,
      "outputs": []
    },
    {
      "cell_type": "code",
      "metadata": {
        "colab_type": "code",
        "id": "krPz1hj0JBSp",
        "colab": {}
      },
      "source": [
        "# Userdefined function to do aggregation on features  to extract new features.\n",
        "def get_new_columns(name,aggs):\n",
        "    return [name + '_' + k + '_' + agg for k in aggs.keys() for agg in aggs[k]]"
      ],
      "execution_count": 0,
      "outputs": []
    },
    {
      "cell_type": "code",
      "metadata": {
        "colab_type": "code",
        "id": "MKpCO4p4JScu",
        "colab": {}
      },
      "source": [
        "# loyalty points will be assigned only after 2 months of card usage .\n",
        "# This is not give in the data so to get that we are extacting year,month,day,time and they start using the card.\n",
        "for df in [df_hist_trans,df_new_merchant_trans]:\n",
        "    df['purchase_date'] = pd.to_datetime(df['purchase_date'])\n",
        "    df['year'] = df['purchase_date'].dt.year\n",
        "    df['weekofyear'] = df['purchase_date'].dt.weekofyear\n",
        "    df['month'] = df['purchase_date'].dt.month\n",
        "    df['dayofweek'] = df['purchase_date'].dt.dayofweek\n",
        "    df['weekend'] = (df.purchase_date.dt.weekday >=5).astype(int)\n",
        "    df['hour'] = df['purchase_date'].dt.hour\n",
        "    df['authorized_flag'] = df['authorized_flag'].map({'Y':1, 'N':0})\n",
        "    df['category_1'] = df['category_1'].map({'Y':1, 'N':0}) \n",
        "    #https://www.kaggle.com/c/elo-merchant-category-recommendation/discussion/73244\n",
        "    df['month_diff'] = ((datetime.datetime.today() - df['purchase_date']).dt.days)//30\n",
        "    df['month_diff'] += df['month_lag']"
      ],
      "execution_count": 0,
      "outputs": []
    },
    {
      "cell_type": "code",
      "metadata": {
        "colab_type": "code",
        "id": "y2EaRxBwJeMY",
        "outputId": "1bca2bbe-f261-425f-b5df-0a45caedff7e",
        "colab": {
          "base_uri": "https://localhost:8080/",
          "height": 34
        }
      },
      "source": [
        "# doingn the aggregation on extracted columns.\n",
        "aggs = {}\n",
        "for col in ['month','hour','weekofyear','dayofweek','year','subsector_id','merchant_id','merchant_category_id']:\n",
        "    aggs[col] = ['nunique']\n",
        "\n",
        "aggs['purchase_amount'] = ['sum','max','min','mean','var']\n",
        "aggs['installments'] = ['sum','max','min','mean','var']\n",
        "aggs['purchase_date'] = ['max','min']\n",
        "aggs['month_lag'] = ['max','min','mean','var']\n",
        "aggs['month_diff'] = ['mean']\n",
        "aggs['authorized_flag'] = ['sum', 'mean']\n",
        "aggs['weekend'] = ['sum', 'mean']\n",
        "aggs['category_1'] = ['sum', 'mean']\n",
        "aggs['card_id'] = ['size']\n",
        "\n",
        "for col in ['category_2','category_3']:\n",
        "    df_hist_trans[col+'_mean'] = df_hist_trans.groupby([col])['purchase_amount'].transform('mean')\n",
        "    aggs[col+'_mean'] = ['mean']    \n",
        "\n",
        "new_columns = get_new_columns('hist',aggs)\n",
        "df_hist_trans_group = df_hist_trans.groupby('card_id').agg(aggs)\n",
        "df_hist_trans_group.columns = new_columns\n",
        "df_hist_trans_group.reset_index(drop=False,inplace=True)\n",
        "df_hist_trans_group['hist_purchase_date_diff'] = (df_hist_trans_group['hist_purchase_date_max'] - df_hist_trans_group['hist_purchase_date_min']).dt.days\n",
        "df_hist_trans_group['hist_purchase_date_average'] = df_hist_trans_group['hist_purchase_date_diff']/df_hist_trans_group['hist_card_id_size']\n",
        "df_hist_trans_group['hist_purchase_date_uptonow'] = (datetime.datetime.today() - df_hist_trans_group['hist_purchase_date_max']).dt.days\n",
        "df_train = df_train.merge(df_hist_trans_group,on='card_id',how='left')\n",
        "df_test = df_test.merge(df_hist_trans_group,on='card_id',how='left')\n",
        "del df_hist_trans_group;gc.collect()"
      ],
      "execution_count": 16,
      "outputs": [
        {
          "output_type": "execute_result",
          "data": {
            "text/plain": [
              "42"
            ]
          },
          "metadata": {
            "tags": []
          },
          "execution_count": 16
        }
      ]
    },
    {
      "cell_type": "code",
      "metadata": {
        "colab_type": "code",
        "id": "5rdv-MZULqWz",
        "outputId": "e30f5a89-9199-4980-d6f8-b46bcf25c4e5",
        "colab": {
          "base_uri": "https://localhost:8080/",
          "height": 34
        }
      },
      "source": [
        "# Repeating the same operation on new_merchants_transaction data.\n",
        "aggs = {}\n",
        "for col in ['month','hour','weekofyear','dayofweek','year','subsector_id','merchant_id','merchant_category_id']:\n",
        "    aggs[col] = ['nunique']\n",
        "aggs['purchase_amount'] = ['sum','max','min','mean','var']\n",
        "aggs['installments'] = ['sum','max','min','mean','var']\n",
        "aggs['purchase_date'] = ['max','min']\n",
        "aggs['month_lag'] = ['max','min','mean','var']\n",
        "aggs['month_diff'] = ['mean']\n",
        "aggs['weekend'] = ['sum', 'mean']\n",
        "aggs['category_1'] = ['sum', 'mean']\n",
        "aggs['card_id'] = ['size']\n",
        "\n",
        "for col in ['category_2','category_3']:\n",
        "    df_new_merchant_trans[col+'_mean'] = df_new_merchant_trans.groupby([col])['purchase_amount'].transform('mean')\n",
        "    aggs[col+'_mean'] = ['mean']\n",
        "    \n",
        "new_columns = get_new_columns('new_hist',aggs)\n",
        "df_hist_trans_group = df_new_merchant_trans.groupby('card_id').agg(aggs)\n",
        "df_hist_trans_group.columns = new_columns\n",
        "df_hist_trans_group.reset_index(drop=False,inplace=True)\n",
        "df_hist_trans_group['new_hist_purchase_date_diff'] = (df_hist_trans_group['new_hist_purchase_date_max'] - df_hist_trans_group['new_hist_purchase_date_min']).dt.days\n",
        "df_hist_trans_group['new_hist_purchase_date_average'] = df_hist_trans_group['new_hist_purchase_date_diff']/df_hist_trans_group['new_hist_card_id_size']\n",
        "df_hist_trans_group['new_hist_purchase_date_uptonow'] = (datetime.datetime.today() - df_hist_trans_group['new_hist_purchase_date_max']).dt.days\n",
        "df_train = df_train.merge(df_hist_trans_group,on='card_id',how='left')\n",
        "df_test = df_test.merge(df_hist_trans_group,on='card_id',how='left')\n",
        "del df_hist_trans_group;gc.collect()"
      ],
      "execution_count": 17,
      "outputs": [
        {
          "output_type": "execute_result",
          "data": {
            "text/plain": [
              "28"
            ]
          },
          "metadata": {
            "tags": []
          },
          "execution_count": 17
        }
      ]
    },
    {
      "cell_type": "code",
      "metadata": {
        "colab_type": "code",
        "id": "bikRQPrvRQ5g",
        "outputId": "2e479428-9f0b-46c2-bf24-6f7aa8b40c61",
        "colab": {
          "base_uri": "https://localhost:8080/",
          "height": 253
        }
      },
      "source": [
        "del df_hist_trans;gc.collect()\n",
        "del df_new_merchant_trans;gc.collect()\n",
        "df_train.head(5)"
      ],
      "execution_count": 0,
      "outputs": [
        {
          "output_type": "execute_result",
          "data": {
            "text/html": [
              "<div>\n",
              "<style scoped>\n",
              "    .dataframe tbody tr th:only-of-type {\n",
              "        vertical-align: middle;\n",
              "    }\n",
              "\n",
              "    .dataframe tbody tr th {\n",
              "        vertical-align: top;\n",
              "    }\n",
              "\n",
              "    .dataframe thead th {\n",
              "        text-align: right;\n",
              "    }\n",
              "</style>\n",
              "<table border=\"1\" class=\"dataframe\">\n",
              "  <thead>\n",
              "    <tr style=\"text-align: right;\">\n",
              "      <th></th>\n",
              "      <th>first_active_month</th>\n",
              "      <th>card_id</th>\n",
              "      <th>feature_1</th>\n",
              "      <th>feature_2</th>\n",
              "      <th>feature_3</th>\n",
              "      <th>target</th>\n",
              "      <th>hist_month_nunique</th>\n",
              "      <th>hist_hour_nunique</th>\n",
              "      <th>hist_weekofyear_nunique</th>\n",
              "      <th>hist_dayofweek_nunique</th>\n",
              "      <th>...</th>\n",
              "      <th>new_hist_weekend_sum</th>\n",
              "      <th>new_hist_weekend_mean</th>\n",
              "      <th>new_hist_category_1_sum</th>\n",
              "      <th>new_hist_category_1_mean</th>\n",
              "      <th>new_hist_card_id_size</th>\n",
              "      <th>new_hist_category_2_mean_mean</th>\n",
              "      <th>new_hist_category_3_mean_mean</th>\n",
              "      <th>new_hist_purchase_date_diff</th>\n",
              "      <th>new_hist_purchase_date_average</th>\n",
              "      <th>new_hist_purchase_date_uptonow</th>\n",
              "    </tr>\n",
              "  </thead>\n",
              "  <tbody>\n",
              "    <tr>\n",
              "      <th>0</th>\n",
              "      <td>2017-06</td>\n",
              "      <td>C_ID_92a2005557</td>\n",
              "      <td>5</td>\n",
              "      <td>2</td>\n",
              "      <td>1</td>\n",
              "      <td>-0.820283</td>\n",
              "      <td>9</td>\n",
              "      <td>23</td>\n",
              "      <td>35</td>\n",
              "      <td>7</td>\n",
              "      <td>...</td>\n",
              "      <td>6.0</td>\n",
              "      <td>0.260870</td>\n",
              "      <td>0.0</td>\n",
              "      <td>0.000000</td>\n",
              "      <td>23.0</td>\n",
              "      <td>-0.550293</td>\n",
              "      <td>-0.592773</td>\n",
              "      <td>54.0</td>\n",
              "      <td>2.347826</td>\n",
              "      <td>241.0</td>\n",
              "    </tr>\n",
              "    <tr>\n",
              "      <th>1</th>\n",
              "      <td>2017-01</td>\n",
              "      <td>C_ID_3d0044924f</td>\n",
              "      <td>4</td>\n",
              "      <td>1</td>\n",
              "      <td>0</td>\n",
              "      <td>0.392913</td>\n",
              "      <td>12</td>\n",
              "      <td>24</td>\n",
              "      <td>50</td>\n",
              "      <td>7</td>\n",
              "      <td>...</td>\n",
              "      <td>0.0</td>\n",
              "      <td>0.000000</td>\n",
              "      <td>0.0</td>\n",
              "      <td>0.000000</td>\n",
              "      <td>6.0</td>\n",
              "      <td>-0.550293</td>\n",
              "      <td>-0.606445</td>\n",
              "      <td>56.0</td>\n",
              "      <td>9.333333</td>\n",
              "      <td>271.0</td>\n",
              "    </tr>\n",
              "    <tr>\n",
              "      <th>2</th>\n",
              "      <td>2016-08</td>\n",
              "      <td>C_ID_d639edf6cd</td>\n",
              "      <td>2</td>\n",
              "      <td>2</td>\n",
              "      <td>0</td>\n",
              "      <td>0.688056</td>\n",
              "      <td>10</td>\n",
              "      <td>14</td>\n",
              "      <td>22</td>\n",
              "      <td>7</td>\n",
              "      <td>...</td>\n",
              "      <td>1.0</td>\n",
              "      <td>1.000000</td>\n",
              "      <td>0.0</td>\n",
              "      <td>0.000000</td>\n",
              "      <td>1.0</td>\n",
              "      <td>-0.548828</td>\n",
              "      <td>-0.592773</td>\n",
              "      <td>0.0</td>\n",
              "      <td>0.000000</td>\n",
              "      <td>242.0</td>\n",
              "    </tr>\n",
              "    <tr>\n",
              "      <th>3</th>\n",
              "      <td>2017-09</td>\n",
              "      <td>C_ID_186d6a6901</td>\n",
              "      <td>4</td>\n",
              "      <td>3</td>\n",
              "      <td>0</td>\n",
              "      <td>0.142495</td>\n",
              "      <td>6</td>\n",
              "      <td>16</td>\n",
              "      <td>20</td>\n",
              "      <td>7</td>\n",
              "      <td>...</td>\n",
              "      <td>3.0</td>\n",
              "      <td>0.428571</td>\n",
              "      <td>1.0</td>\n",
              "      <td>0.142857</td>\n",
              "      <td>7.0</td>\n",
              "      <td>-0.556641</td>\n",
              "      <td>-0.604492</td>\n",
              "      <td>41.0</td>\n",
              "      <td>5.857143</td>\n",
              "      <td>252.0</td>\n",
              "    </tr>\n",
              "    <tr>\n",
              "      <th>4</th>\n",
              "      <td>2017-11</td>\n",
              "      <td>C_ID_cdbd2c0db2</td>\n",
              "      <td>1</td>\n",
              "      <td>3</td>\n",
              "      <td>0</td>\n",
              "      <td>-0.159749</td>\n",
              "      <td>4</td>\n",
              "      <td>22</td>\n",
              "      <td>17</td>\n",
              "      <td>7</td>\n",
              "      <td>...</td>\n",
              "      <td>12.0</td>\n",
              "      <td>0.333333</td>\n",
              "      <td>2.0</td>\n",
              "      <td>0.055556</td>\n",
              "      <td>36.0</td>\n",
              "      <td>-0.555664</td>\n",
              "      <td>-0.588379</td>\n",
              "      <td>57.0</td>\n",
              "      <td>1.583333</td>\n",
              "      <td>242.0</td>\n",
              "    </tr>\n",
              "  </tbody>\n",
              "</table>\n",
              "<p>5 rows × 78 columns</p>\n",
              "</div>"
            ],
            "text/plain": [
              "  first_active_month          card_id  feature_1  feature_2  feature_3  \\\n",
              "0            2017-06  C_ID_92a2005557          5          2          1   \n",
              "1            2017-01  C_ID_3d0044924f          4          1          0   \n",
              "2            2016-08  C_ID_d639edf6cd          2          2          0   \n",
              "3            2017-09  C_ID_186d6a6901          4          3          0   \n",
              "4            2017-11  C_ID_cdbd2c0db2          1          3          0   \n",
              "\n",
              "     target  hist_month_nunique  hist_hour_nunique  hist_weekofyear_nunique  \\\n",
              "0 -0.820283                   9                 23                       35   \n",
              "1  0.392913                  12                 24                       50   \n",
              "2  0.688056                  10                 14                       22   \n",
              "3  0.142495                   6                 16                       20   \n",
              "4 -0.159749                   4                 22                       17   \n",
              "\n",
              "   hist_dayofweek_nunique               ...                \\\n",
              "0                       7               ...                 \n",
              "1                       7               ...                 \n",
              "2                       7               ...                 \n",
              "3                       7               ...                 \n",
              "4                       7               ...                 \n",
              "\n",
              "   new_hist_weekend_sum  new_hist_weekend_mean  new_hist_category_1_sum  \\\n",
              "0                   6.0               0.260870                      0.0   \n",
              "1                   0.0               0.000000                      0.0   \n",
              "2                   1.0               1.000000                      0.0   \n",
              "3                   3.0               0.428571                      1.0   \n",
              "4                  12.0               0.333333                      2.0   \n",
              "\n",
              "   new_hist_category_1_mean  new_hist_card_id_size  \\\n",
              "0                  0.000000                   23.0   \n",
              "1                  0.000000                    6.0   \n",
              "2                  0.000000                    1.0   \n",
              "3                  0.142857                    7.0   \n",
              "4                  0.055556                   36.0   \n",
              "\n",
              "   new_hist_category_2_mean_mean  new_hist_category_3_mean_mean  \\\n",
              "0                      -0.550293                      -0.592773   \n",
              "1                      -0.550293                      -0.606445   \n",
              "2                      -0.548828                      -0.592773   \n",
              "3                      -0.556641                      -0.604492   \n",
              "4                      -0.555664                      -0.588379   \n",
              "\n",
              "   new_hist_purchase_date_diff  new_hist_purchase_date_average  \\\n",
              "0                         54.0                        2.347826   \n",
              "1                         56.0                        9.333333   \n",
              "2                          0.0                        0.000000   \n",
              "3                         41.0                        5.857143   \n",
              "4                         57.0                        1.583333   \n",
              "\n",
              "   new_hist_purchase_date_uptonow  \n",
              "0                           241.0  \n",
              "1                           271.0  \n",
              "2                           242.0  \n",
              "3                           252.0  \n",
              "4                           242.0  \n",
              "\n",
              "[5 rows x 78 columns]"
            ]
          },
          "metadata": {
            "tags": []
          },
          "execution_count": 18
        }
      ]
    },
    {
      "cell_type": "markdown",
      "metadata": {
        "id": "QurfxLl-SBsE",
        "colab_type": "text"
      },
      "source": [
        "# Handling Outliers"
      ]
    },
    {
      "cell_type": "code",
      "metadata": {
        "colab_type": "code",
        "id": "GCZJEjo3R6f5",
        "outputId": "6e3ada9f-b0e6-416c-f929-ed3dd1bf7848",
        "colab": {
          "base_uri": "https://localhost:8080/",
          "height": 68
        }
      },
      "source": [
        "# Target has outliers so creating a new column-outliers,to impute with mean of the fearure's group it belongs to.\n",
        "df_train['outliers'] = 0\n",
        "df_train.loc[df_train['target'] < -30, 'outliers'] = 1\n",
        "df_train['outliers'].value_counts()"
      ],
      "execution_count": 18,
      "outputs": [
        {
          "output_type": "execute_result",
          "data": {
            "text/plain": [
              "0    199710\n",
              "1      2207\n",
              "Name: outliers, dtype: int64"
            ]
          },
          "metadata": {
            "tags": []
          },
          "execution_count": 18
        }
      ]
    },
    {
      "cell_type": "code",
      "metadata": {
        "colab_type": "code",
        "id": "7wvegboQSZS7",
        "colab": {}
      },
      "source": [
        "for df in [df_train,df_test]:\n",
        "    df['first_active_month'] = pd.to_datetime(df['first_active_month'])\n",
        "    df['dayofweek'] = df['first_active_month'].dt.dayofweek\n",
        "    df['weekofyear'] = df['first_active_month'].dt.weekofyear\n",
        "    df['month'] = df['first_active_month'].dt.month\n",
        "    df['elapsed_time'] = (datetime.datetime.today() - df['first_active_month']).dt.days\n",
        "    df['hist_first_buy'] = (df['hist_purchase_date_min'] - df['first_active_month']).dt.days\n",
        "    df['new_hist_first_buy'] = (df['new_hist_purchase_date_min'] - df['first_active_month']).dt.days\n",
        "    for f in ['hist_purchase_date_max','hist_purchase_date_min','new_hist_purchase_date_max',\\\n",
        "                     'new_hist_purchase_date_min']:\n",
        "        df[f] = df[f].astype(np.int64) * 1e-9\n",
        "    df['card_id_total'] = df['new_hist_card_id_size']+df['hist_card_id_size']\n",
        "    df['purchase_amount_total'] = df['new_hist_purchase_amount_sum']+df['hist_purchase_amount_sum']\n",
        "\n",
        "for f in ['feature_1','feature_2','feature_3']:\n",
        "    order_label = df_train.groupby([f])['outliers'].mean()\n",
        "    df_train[f] = df_train[f].map(order_label)\n",
        "    df_test[f] = df_test[f].map(order_label)"
      ],
      "execution_count": 0,
      "outputs": []
    },
    {
      "cell_type": "code",
      "metadata": {
        "colab_type": "code",
        "id": "RPXvSSBkSqna",
        "colab": {}
      },
      "source": [
        "df_train_columns = [c for c in df_train.columns if c not in ['card_id', 'first_active_month','target','outliers']]\n",
        "target = df_train['target']\n",
        "del df_train['target']"
      ],
      "execution_count": 0,
      "outputs": []
    },
    {
      "cell_type": "markdown",
      "metadata": {
        "id": "aaqa6FkmSKFv",
        "colab_type": "text"
      },
      "source": [
        "# Set parameters and Training with StratifiedKFold\n",
        "Evalutation with Root Mean Square Error RMSE"
      ]
    },
    {
      "cell_type": "code",
      "metadata": {
        "colab_type": "code",
        "id": "LrJs4UotX4HP",
        "outputId": "7fcf7141-a2be-4811-b463-0fe7b987f9dc",
        "colab": {
          "base_uri": "https://localhost:8080/",
          "height": 1394
        }
      },
      "source": [
        "param = {'num_leaves': 31,\n",
        "         'min_data_in_leaf': 30, \n",
        "         'objective':'regression',\n",
        "         'max_depth': -1,\n",
        "         'learning_rate': 0.01,\n",
        "         \"min_child_samples\": 20,\n",
        "         \"boosting\": \"gbdt\",\n",
        "         \"feature_fraction\": 0.9,\n",
        "         \"bagging_freq\": 1,\n",
        "         \"bagging_fraction\": 0.9 ,\n",
        "         \"bagging_seed\": 11,\n",
        "         \"metric\": 'rmse',\n",
        "         \"lambda_l1\": 0.1,\n",
        "         \"verbosity\": -1,\n",
        "         \"nthread\": 4,\n",
        "         \"random_state\": 4590}\n",
        "folds = StratifiedKFold(n_splits=5, shuffle=True, random_state=4590)\n",
        "oof = np.zeros(len(df_train))\n",
        "predictions = np.zeros(len(df_test))\n",
        "feature_importance_df = pd.DataFrame()\n",
        "\n",
        "for fold_, (trn_idx, val_idx) in enumerate(folds.split(df_train,df_train['outliers'].values)):\n",
        "    print(\"fold {}\".format(fold_))\n",
        "    trn_data = lgb.Dataset(df_train.iloc[trn_idx][df_train_columns], label=target.iloc[trn_idx])#, categorical_feature=categorical_feats)\n",
        "    val_data = lgb.Dataset(df_train.iloc[val_idx][df_train_columns], label=target.iloc[val_idx])#, categorical_feature=categorical_feats)\n",
        "\n",
        "    num_round = 10000\n",
        "    clf = lgb.train(param, trn_data, num_round, valid_sets = [trn_data, val_data], verbose_eval=100, early_stopping_rounds = 100)\n",
        "    oof[val_idx] = clf.predict(df_train.iloc[val_idx][df_train_columns], num_iteration=clf.best_iteration)\n",
        "    \n",
        "    fold_importance_df = pd.DataFrame()\n",
        "    fold_importance_df[\"Feature\"] = df_train_columns\n",
        "    fold_importance_df[\"importance\"] = clf.feature_importance()\n",
        "    fold_importance_df[\"fold\"] = fold_ + 1\n",
        "    feature_importance_df = pd.concat([feature_importance_df, fold_importance_df], axis=0)\n",
        "    \n",
        "    predictions += clf.predict(df_test[df_train_columns], num_iteration=clf.best_iteration) / folds.n_splits\n",
        "\n",
        "np.sqrt(mean_squared_error(oof, target))"
      ],
      "execution_count": 21,
      "outputs": [
        {
          "output_type": "stream",
          "text": [
            "fold 0\n",
            "Training until validation scores don't improve for 100 rounds.\n",
            "[100]\ttraining's rmse: 3.66307\tvalid_1's rmse: 3.73405\n",
            "[200]\ttraining's rmse: 3.58521\tvalid_1's rmse: 3.7025\n",
            "[300]\ttraining's rmse: 3.5376\tvalid_1's rmse: 3.69093\n",
            "[400]\ttraining's rmse: 3.50168\tvalid_1's rmse: 3.68349\n",
            "[500]\ttraining's rmse: 3.47117\tvalid_1's rmse: 3.67842\n",
            "[600]\ttraining's rmse: 3.44497\tvalid_1's rmse: 3.6755\n",
            "[700]\ttraining's rmse: 3.4229\tvalid_1's rmse: 3.67365\n",
            "[800]\ttraining's rmse: 3.40259\tvalid_1's rmse: 3.67204\n",
            "[900]\ttraining's rmse: 3.38427\tvalid_1's rmse: 3.67115\n",
            "[1000]\ttraining's rmse: 3.36697\tvalid_1's rmse: 3.67054\n",
            "[1100]\ttraining's rmse: 3.34974\tvalid_1's rmse: 3.66987\n",
            "[1200]\ttraining's rmse: 3.33415\tvalid_1's rmse: 3.67001\n",
            "Early stopping, best iteration is:\n",
            "[1107]\ttraining's rmse: 3.34881\tvalid_1's rmse: 3.66982\n",
            "fold 1\n",
            "Training until validation scores don't improve for 100 rounds.\n",
            "[100]\ttraining's rmse: 3.67243\tvalid_1's rmse: 3.70273\n",
            "[200]\ttraining's rmse: 3.59697\tvalid_1's rmse: 3.66817\n",
            "[300]\ttraining's rmse: 3.55102\tvalid_1's rmse: 3.65504\n",
            "[400]\ttraining's rmse: 3.51534\tvalid_1's rmse: 3.64578\n",
            "[500]\ttraining's rmse: 3.48684\tvalid_1's rmse: 3.64152\n",
            "[600]\ttraining's rmse: 3.46164\tvalid_1's rmse: 3.63825\n",
            "[700]\ttraining's rmse: 3.4401\tvalid_1's rmse: 3.63653\n",
            "[800]\ttraining's rmse: 3.4191\tvalid_1's rmse: 3.63552\n",
            "[900]\ttraining's rmse: 3.39994\tvalid_1's rmse: 3.63442\n",
            "[1000]\ttraining's rmse: 3.38318\tvalid_1's rmse: 3.63363\n",
            "[1100]\ttraining's rmse: 3.3672\tvalid_1's rmse: 3.63322\n",
            "[1200]\ttraining's rmse: 3.35189\tvalid_1's rmse: 3.63265\n",
            "[1300]\ttraining's rmse: 3.33681\tvalid_1's rmse: 3.6325\n",
            "[1400]\ttraining's rmse: 3.32186\tvalid_1's rmse: 3.63233\n",
            "Early stopping, best iteration is:\n",
            "[1366]\ttraining's rmse: 3.32651\tvalid_1's rmse: 3.63227\n",
            "fold 2\n",
            "Training until validation scores don't improve for 100 rounds.\n",
            "[100]\ttraining's rmse: 3.66417\tvalid_1's rmse: 3.7229\n",
            "[200]\ttraining's rmse: 3.58697\tvalid_1's rmse: 3.69372\n",
            "[300]\ttraining's rmse: 3.53867\tvalid_1's rmse: 3.6824\n",
            "[400]\ttraining's rmse: 3.50294\tvalid_1's rmse: 3.67549\n",
            "[500]\ttraining's rmse: 3.47438\tvalid_1's rmse: 3.6713\n",
            "[600]\ttraining's rmse: 3.45009\tvalid_1's rmse: 3.6683\n",
            "[700]\ttraining's rmse: 3.4269\tvalid_1's rmse: 3.66691\n",
            "[800]\ttraining's rmse: 3.40591\tvalid_1's rmse: 3.66611\n",
            "[900]\ttraining's rmse: 3.38626\tvalid_1's rmse: 3.66547\n",
            "[1000]\ttraining's rmse: 3.36772\tvalid_1's rmse: 3.66581\n",
            "Early stopping, best iteration is:\n",
            "[930]\ttraining's rmse: 3.38053\tvalid_1's rmse: 3.66516\n",
            "fold 3\n",
            "Training until validation scores don't improve for 100 rounds.\n",
            "[100]\ttraining's rmse: 3.66702\tvalid_1's rmse: 3.71674\n",
            "[200]\ttraining's rmse: 3.58927\tvalid_1's rmse: 3.68643\n",
            "[300]\ttraining's rmse: 3.54221\tvalid_1's rmse: 3.67478\n",
            "[400]\ttraining's rmse: 3.50628\tvalid_1's rmse: 3.66833\n",
            "[500]\ttraining's rmse: 3.47761\tvalid_1's rmse: 3.66347\n",
            "[600]\ttraining's rmse: 3.45248\tvalid_1's rmse: 3.66103\n",
            "[700]\ttraining's rmse: 3.42863\tvalid_1's rmse: 3.65905\n",
            "[800]\ttraining's rmse: 3.40785\tvalid_1's rmse: 3.6578\n",
            "[900]\ttraining's rmse: 3.38939\tvalid_1's rmse: 3.65702\n",
            "[1000]\ttraining's rmse: 3.37204\tvalid_1's rmse: 3.65721\n",
            "Early stopping, best iteration is:\n",
            "[914]\ttraining's rmse: 3.38681\tvalid_1's rmse: 3.65672\n",
            "fold 4\n",
            "Training until validation scores don't improve for 100 rounds.\n",
            "[100]\ttraining's rmse: 3.66659\tvalid_1's rmse: 3.70968\n",
            "[200]\ttraining's rmse: 3.58888\tvalid_1's rmse: 3.68299\n",
            "[300]\ttraining's rmse: 3.541\tvalid_1's rmse: 3.67144\n",
            "[400]\ttraining's rmse: 3.50485\tvalid_1's rmse: 3.66535\n",
            "[500]\ttraining's rmse: 3.47521\tvalid_1's rmse: 3.66132\n",
            "[600]\ttraining's rmse: 3.44902\tvalid_1's rmse: 3.65919\n",
            "[700]\ttraining's rmse: 3.42667\tvalid_1's rmse: 3.65727\n",
            "[800]\ttraining's rmse: 3.40576\tvalid_1's rmse: 3.6567\n",
            "[900]\ttraining's rmse: 3.38703\tvalid_1's rmse: 3.65605\n",
            "[1000]\ttraining's rmse: 3.36964\tvalid_1's rmse: 3.65577\n",
            "[1100]\ttraining's rmse: 3.35303\tvalid_1's rmse: 3.65561\n",
            "[1200]\ttraining's rmse: 3.33658\tvalid_1's rmse: 3.65535\n",
            "[1300]\ttraining's rmse: 3.32134\tvalid_1's rmse: 3.65528\n",
            "[1400]\ttraining's rmse: 3.30633\tvalid_1's rmse: 3.65503\n",
            "Early stopping, best iteration is:\n",
            "[1386]\ttraining's rmse: 3.30824\tvalid_1's rmse: 3.65483\n"
          ],
          "name": "stdout"
        },
        {
          "output_type": "execute_result",
          "data": {
            "text/plain": [
              "3.655782166184337"
            ]
          },
          "metadata": {
            "tags": []
          },
          "execution_count": 21
        }
      ]
    },
    {
      "cell_type": "markdown",
      "metadata": {
        "id": "qJzdAVbXSc-K",
        "colab_type": "text"
      },
      "source": [
        "# Plotting Feature Importance "
      ]
    },
    {
      "cell_type": "code",
      "metadata": {
        "colab_type": "code",
        "id": "R_0NYf6ZX8fH",
        "outputId": "3c7ccb89-1cd7-4718-8805-3f8b5b8c7580",
        "colab": {
          "base_uri": "https://localhost:8080/",
          "height": 1809
        }
      },
      "source": [
        "#Plotting the feature importance.\n",
        "cols = (feature_importance_df[[\"Feature\", \"importance\"]]\n",
        "        .groupby(\"Feature\")\n",
        "        .mean()\n",
        "        .sort_values(by=\"importance\", ascending=False)[:1000].index)\n",
        "\n",
        "best_features = feature_importance_df.loc[feature_importance_df.Feature.isin(cols)]\n",
        "\n",
        "plt.figure(figsize=(14,25))\n",
        "sns.barplot(x=\"importance\",\n",
        "            y=\"Feature\",\n",
        "            data=best_features.sort_values(by=\"importance\",\n",
        "                                           ascending=False))\n",
        "plt.title('LightGBM Features (avg over folds)')\n",
        "plt.tight_layout()\n",
        "plt.savefig('lgbm_importances.png')"
      ],
      "execution_count": 22,
      "outputs": [
        {
          "output_type": "display_data",
          "data": {
            "image/png": "[encoded data removed]",
            "text/plain": [
              "<Figure size 1008x1800 with 1 Axes>"
            ]
          },
          "metadata": {
            "tags": []
          }
        }
      ]
    },
    {
      "cell_type": "markdown",
      "metadata": {
        "id": "CRgbX5ioSjlp",
        "colab_type": "text"
      },
      "source": [
        "# Submission"
      ]
    },
    {
      "cell_type": "code",
      "metadata": {
        "colab_type": "code",
        "id": "2Ub4HHhTZ-OM",
        "colab": {}
      },
      "source": [
        "sub_df = pd.DataFrame({\"card_id\":df_test[\"card_id\"].values})\n",
        "sub_df[\"target\"] = predictions\n",
        "sub_df.to_csv(\"submission.csv\", index=False)"
      ],
      "execution_count": 0,
      "outputs": []
    },
    {
      "cell_type": "code",
      "metadata": {
        "colab_type": "code",
        "id": "J61I4gX-aBlB",
        "colab": {}
      },
      "source": [
        "from google.colab import files\n",
        "files.download('submission.csv')"
      ],
      "execution_count": 0,
      "outputs": []
    },
    {
      "cell_type": "code",
      "metadata": {
        "colab_type": "code",
        "id": "2mrUYoXCaTJA",
        "colab": {}
      },
      "source": [
        ""
      ],
      "execution_count": 0,
      "outputs": []
    },
    {
      "cell_type": "markdown",
      "metadata": {
        "id": "ROIyOYga7ltn",
        "colab_type": "text"
      },
      "source": [
        "# Testing with  CATBoost Algorithm \n"
      ]
    },
    {
      "cell_type": "code",
      "metadata": {
        "id": "xAItDiJd7nAv",
        "colab_type": "code",
        "colab": {
          "base_uri": "https://localhost:8080/",
          "height": 241
        },
        "outputId": "12433178-8829-4d11-d4bf-b77344369cf0"
      },
      "source": [
        "!pip3 install catboost"
      ],
      "execution_count": 23,
      "outputs": [
        {
          "output_type": "stream",
          "text": [
            "Collecting catboost\n",
            "\u001b[?25l  Downloading https://files.pythonhosted.org/packages/2f/c4/f130237b24efd1941cb685da12496675a90045129b66774751f1bf629dfd/catboost-0.14.2-cp36-none-manylinux1_x86_64.whl (60.6MB)\n",
            "\u001b[K     |████████████████████████████████| 60.6MB 562kB/s \n",
            "\u001b[?25hRequirement already satisfied: enum34 in /usr/local/lib/python3.6/dist-packages (from catboost) (1.1.6)\n",
            "Requirement already satisfied: numpy>=1.11.1 in /usr/local/lib/python3.6/dist-packages (from catboost) (1.16.3)\n",
            "Requirement already satisfied: graphviz in /usr/local/lib/python3.6/dist-packages (from catboost) (0.10.1)\n",
            "Requirement already satisfied: six in /usr/local/lib/python3.6/dist-packages (from catboost) (1.12.0)\n",
            "Requirement already satisfied: pandas>=0.19.1 in /usr/local/lib/python3.6/dist-packages (from catboost) (0.24.2)\n",
            "Requirement already satisfied: python-dateutil>=2.5.0 in /usr/local/lib/python3.6/dist-packages (from pandas>=0.19.1->catboost) (2.5.3)\n",
            "Requirement already satisfied: pytz>=2011k in /usr/local/lib/python3.6/dist-packages (from pandas>=0.19.1->catboost) (2018.9)\n",
            "Installing collected packages: catboost\n",
            "Successfully installed catboost-0.14.2\n"
          ],
          "name": "stdout"
        }
      ]
    },
    {
      "cell_type": "code",
      "metadata": {
        "id": "mJiWmmxj8GNW",
        "colab_type": "code",
        "colab": {}
      },
      "source": [
        "from sklearn.model_selection import KFold"
      ],
      "execution_count": 0,
      "outputs": []
    },
    {
      "cell_type": "code",
      "metadata": {
        "id": "bMqn_bzZ7qJ_",
        "colab_type": "code",
        "colab": {
          "base_uri": "https://localhost:8080/",
          "height": 1071
        },
        "outputId": "6fa28a6a-ff02-439a-da3e-11ba371ee30e"
      },
      "source": [
        " %%time\n",
        " from catboost import CatBoostRegressor\n",
        " folds = KFold(n_splits=5, shuffle=True, random_state=15)\n",
        " oof_cat = np.zeros(len(df_train))\n",
        " predictions_cat = np.zeros(len(df_test))\n",
        "\n",
        " for fold_, (trn_idx, val_idx) in enumerate(folds.split(df_train.values, target.values)):\n",
        "     print(\"fold n°{}\".format(fold_ + 1))\n",
        "     trn_data, trn_y = df_train.iloc[trn_idx][df_train_columns], target.iloc[trn_idx].values\n",
        "     val_data, val_y = df_train.iloc[val_idx][df_train_columns], target.iloc[val_idx].values\n",
        "     print(\"-\" * 10 + \"Catboost \" + str(fold_) + \"-\" * 10)\n",
        "     cb_model = CatBoostRegressor(iterations=3000, learning_rate=0.1, depth=8, l2_leaf_reg=20, bootstrap_type='Bernoulli',  eval_metric='RMSE', metric_period=50, od_type='Iter', od_wait=45, random_seed=17, allow_writing_files=False)\n",
        "     cb_model.fit(trn_data, trn_y, eval_set=(val_data, val_y), cat_features=[], use_best_model=True, verbose=100)\n",
        "    \n",
        "     oof_cat[val_idx] = cb_model.predict(val_data)\n",
        "     predictions_cat += cb_model.predict(df_test[df_train_columns]) / folds.n_splits\n",
        "    \n",
        " np.save('oof_cat', oof_cat)\n",
        " np.save('predictions_cat', predictions_cat)\n",
        " np.sqrt(mean_squared_error(target.values, oof_cat))\n",
        " gc.collect()"
      ],
      "execution_count": 30,
      "outputs": [
        {
          "output_type": "stream",
          "text": [
            "fold n°1\n",
            "----------Catboost 0----------\n"
          ],
          "name": "stdout"
        },
        {
          "output_type": "stream",
          "text": [
            "Warning: Overfitting detector is active, thus evaluation metric is calculated on every iteration. 'metric_period' is ignored for evaluation metric.\n"
          ],
          "name": "stderr"
        },
        {
          "output_type": "stream",
          "text": [
            "0:\tlearn: 3.8353631\ttest: 3.8789514\tbest: 3.8789514 (0)\ttotal: 137ms\tremaining: 6m 50s\n",
            "100:\tlearn: 3.5909259\ttest: 3.6785308\tbest: 3.6785308 (100)\ttotal: 12.6s\tremaining: 6m 1s\n",
            "200:\tlearn: 3.5197276\ttest: 3.6724232\tbest: 3.6720368 (187)\ttotal: 24.6s\tremaining: 5m 43s\n",
            "Stopped by overfitting detector  (45 iterations wait)\n",
            "\n",
            "bestTest = 3.670501996\n",
            "bestIteration = 244\n",
            "\n",
            "Shrink model to first 245 iterations.\n",
            "fold n°2\n",
            "----------Catboost 1----------\n"
          ],
          "name": "stdout"
        },
        {
          "output_type": "stream",
          "text": [
            "Warning: Overfitting detector is active, thus evaluation metric is calculated on every iteration. 'metric_period' is ignored for evaluation metric.\n"
          ],
          "name": "stderr"
        },
        {
          "output_type": "stream",
          "text": [
            "0:\tlearn: 3.8559300\ttest: 3.8008769\tbest: 3.8008769 (0)\ttotal: 133ms\tremaining: 6m 38s\n",
            "100:\tlearn: 3.5943912\ttest: 3.6203142\tbest: 3.6203010 (99)\ttotal: 13.7s\tremaining: 6m 32s\n",
            "200:\tlearn: 3.5288360\ttest: 3.6171360\tbest: 3.6166456 (182)\ttotal: 26.2s\tremaining: 6m 5s\n",
            "Stopped by overfitting detector  (45 iterations wait)\n",
            "\n",
            "bestTest = 3.616645576\n",
            "bestIteration = 182\n",
            "\n",
            "Shrink model to first 183 iterations.\n",
            "fold n°3\n",
            "----------Catboost 2----------\n"
          ],
          "name": "stdout"
        },
        {
          "output_type": "stream",
          "text": [
            "Warning: Overfitting detector is active, thus evaluation metric is calculated on every iteration. 'metric_period' is ignored for evaluation metric.\n"
          ],
          "name": "stderr"
        },
        {
          "output_type": "stream",
          "text": [
            "0:\tlearn: 3.8596301\ttest: 3.7706188\tbest: 3.7706188 (0)\ttotal: 136ms\tremaining: 6m 48s\n",
            "100:\tlearn: 3.6063581\ttest: 3.5979129\tbest: 3.5978757 (98)\ttotal: 12.9s\tremaining: 6m 11s\n",
            "200:\tlearn: 3.5501840\ttest: 3.5940319\tbest: 3.5938719 (198)\ttotal: 24.4s\tremaining: 5m 40s\n",
            "Stopped by overfitting detector  (45 iterations wait)\n",
            "\n",
            "bestTest = 3.593166342\n",
            "bestIteration = 244\n",
            "\n",
            "Shrink model to first 245 iterations.\n",
            "fold n°4\n",
            "----------Catboost 3----------\n"
          ],
          "name": "stdout"
        },
        {
          "output_type": "stream",
          "text": [
            "Warning: Overfitting detector is active, thus evaluation metric is calculated on every iteration. 'metric_period' is ignored for evaluation metric.\n"
          ],
          "name": "stderr"
        },
        {
          "output_type": "stream",
          "text": [
            "0:\tlearn: 3.8073378\ttest: 3.9812448\tbest: 3.9812448 (0)\ttotal: 136ms\tremaining: 6m 48s\n",
            "100:\tlearn: 3.5675081\ttest: 3.8002883\tbest: 3.8002883 (100)\ttotal: 12.4s\tremaining: 5m 55s\n",
            "200:\tlearn: 3.4981300\ttest: 3.7923494\tbest: 3.7923321 (198)\ttotal: 25.6s\tremaining: 5m 55s\n",
            "Stopped by overfitting detector  (45 iterations wait)\n",
            "\n",
            "bestTest = 3.791162927\n",
            "bestIteration = 254\n",
            "\n",
            "Shrink model to first 255 iterations.\n",
            "fold n°5\n",
            "----------Catboost 4----------\n"
          ],
          "name": "stdout"
        },
        {
          "output_type": "stream",
          "text": [
            "Warning: Overfitting detector is active, thus evaluation metric is calculated on every iteration. 'metric_period' is ignored for evaluation metric.\n"
          ],
          "name": "stderr"
        },
        {
          "output_type": "stream",
          "text": [
            "0:\tlearn: 3.8567180\ttest: 3.7848430\tbest: 3.7848430 (0)\ttotal: 154ms\tremaining: 7m 41s\n",
            "100:\tlearn: 3.6066855\ttest: 3.6228897\tbest: 3.6227365 (98)\ttotal: 13.7s\tremaining: 6m 33s\n",
            "200:\tlearn: 3.5472157\ttest: 3.6222677\tbest: 3.6213406 (183)\ttotal: 25.3s\tremaining: 5m 51s\n",
            "Stopped by overfitting detector  (45 iterations wait)\n",
            "\n",
            "bestTest = 3.620896376\n",
            "bestIteration = 223\n",
            "\n",
            "Shrink model to first 224 iterations.\n",
            "CPU times: user 5min 49s, sys: 9.08 s, total: 5min 58s\n",
            "Wall time: 3min 16s\n"
          ],
          "name": "stdout"
        }
      ]
    },
    {
      "cell_type": "markdown",
      "metadata": {
        "id": "CSxq_eFQ-yi8",
        "colab_type": "text"
      },
      "source": [
        "# Testing with XGBoost "
      ]
    },
    {
      "cell_type": "code",
      "metadata": {
        "id": "yjNXJb5m_E0R",
        "colab_type": "code",
        "colab": {}
      },
      "source": [
        "from sklearn.model_selection import RepeatedKFold"
      ],
      "execution_count": 0,
      "outputs": []
    },
    {
      "cell_type": "code",
      "metadata": {
        "id": "NT_0AdNB7u_E",
        "colab_type": "code",
        "colab": {
          "base_uri": "https://localhost:8080/",
          "height": 548
        },
        "outputId": "952ef497-b117-4722-9205-c88bf1a913be"
      },
      "source": [
        "%%time\n",
        "\n",
        "import xgboost as xgb\n",
        "\n",
        "xgb_params = {'eta': 0.005, 'max_depth': 3, 'subsample': 0.8, 'colsample_bytree': 0.8, 'alpha':0.1,\n",
        "          'objective': 'reg:linear', 'eval_metric': 'rmse', 'silent': True, 'random_state':folds}\n",
        "\n",
        "\n",
        "folds = RepeatedKFold(n_splits=5, n_repeats=2, random_state=4520)\n",
        "oof_xgb = np.zeros(len(df_train))\n",
        "predictions_xgb = np.zeros(len(df_test))\n",
        "\n",
        "for fold_, (trn_idx, val_idx) in enumerate(folds.split(df_train.values, target.values)):\n",
        "    print(\"fold n°{}\".format(fold_ + 1))\n",
        "    trn_data = xgb.DMatrix(data=df_train.iloc[trn_idx][df_train_columns], label=target.iloc[trn_idx])\n",
        "    val_data = xgb.DMatrix(data=df_train.iloc[val_idx][df_train_columns], label=target.iloc[val_idx])\n",
        "    watchlist = [(trn_data, 'train'), (val_data, 'valid')]\n",
        "    print(\"xgb \" + str(fold_) + \"-\" * 50)\n",
        "    num_round = 11000\n",
        "    xgb_model = xgb.train(xgb_params, trn_data, num_round, watchlist, early_stopping_rounds=50, verbose_eval=1000)\n",
        "    oof_xgb[val_idx] = xgb_model.predict(xgb.DMatrix(df_train.iloc[val_idx][df_train_columns]), ntree_limit=xgb_model.best_ntree_limit+50)\n",
        "\n",
        "    predictions_xgb += xgb_model.predict(xgb.DMatrix(df_test[df_train_columns]), ntree_limit=xgb_model.best_ntree_limit+50) / 10\n",
        "    \n",
        "np.save('oof_xgb', oof_xgb)\n",
        "np.save('predictions_xgb', predictions_xgb)\n",
        "print(\"RMSE : \",np.sqrt(mean_squared_error(target.values, oof_xgb)))\n",
        "gc.collect()"
      ],
      "execution_count": 41,
      "outputs": [
        {
          "output_type": "stream",
          "text": [
            "fold n°1\n",
            "xgb 0--------------------------------------------------\n",
            "[0]\ttrain-rmse:3.9481\tvalid-rmse:3.96175\n",
            "Multiple eval metrics have been passed: 'valid-rmse' will be used for early stopping.\n",
            "\n",
            "Will train until valid-rmse hasn't improved in 50 rounds.\n",
            "[1000]\ttrain-rmse:3.67247\tvalid-rmse:3.70309\n",
            "[2000]\ttrain-rmse:3.6441\tvalid-rmse:3.69082\n",
            "[3000]\ttrain-rmse:3.62519\tvalid-rmse:3.68494\n"
          ],
          "name": "stdout"
        },
        {
          "output_type": "error",
          "ename": "KeyboardInterrupt",
          "evalue": "ignored",
          "traceback": [
            "\u001b[0;31m---------------------------------------------------------------------------\u001b[0m",
            "\u001b[0;31mKeyboardInterrupt\u001b[0m                         Traceback (most recent call last)",
            "\u001b[0;32m<ipython-input-41-bc00b9a9baaa>\u001b[0m in \u001b[0;36m<module>\u001b[0;34m()\u001b[0m\n\u001b[0;32m----> 1\u001b[0;31m \u001b[0mget_ipython\u001b[0m\u001b[0;34m(\u001b[0m\u001b[0;34m)\u001b[0m\u001b[0;34m.\u001b[0m\u001b[0mrun_cell_magic\u001b[0m\u001b[0;34m(\u001b[0m\u001b[0;34m'time'\u001b[0m\u001b[0;34m,\u001b[0m \u001b[0;34m''\u001b[0m\u001b[0;34m,\u001b[0m \u001b[0;34m'\\nimport xgboost as xgb\\n\\nxgb_params = {\\'eta\\': 0.005, \\'max_depth\\': 3, \\'subsample\\': 0.8, \\'colsample_bytree\\': 0.8, \\'alpha\\':0.1,\\n          \\'objective\\': \\'reg:linear\\', \\'eval_metric\\': \\'rmse\\', \\'silent\\': True, \\'random_state\\':folds}\\n\\n\\nfolds = RepeatedKFold(n_splits=5, n_repeats=2, random_state=4520)\\noof_xgb = np.zeros(len(df_train))\\npredictions_xgb = np.zeros(len(df_test))\\n\\nfor fold_, (trn_idx, val_idx) in enumerate(folds.split(df_train.values, target.values)):\\n    print(\"fold n°{}\".format(fold_ + 1))\\n    trn_data = xgb.DMatrix(data=df_train.iloc[trn_idx][df_train_columns], label=target.iloc[trn_idx])\\n    val_data = xgb.DMatrix(data=df_train.iloc[val_idx][df_train_columns], label=target.iloc[val_idx])\\n    watchlist = [(trn_data, \\'train\\'), (val_data, \\'valid\\')]\\n    print(\"xgb \" + str(fold_) + \"-\" * 50)\\n    num_round = 11000\\n    xgb_model = xgb.train(xgb_params, trn_data, num_round, watchlist, early_stopping_rounds=50, verbose_eval=1000)\\n    oof_xgb[val_idx] = xgb_model.predict(xgb.DMatrix(df_train.iloc[val_idx][df_train_columns]), ntree_limit=xgb_model.best_ntree_limit+50)\\n\\n    predictions_xgb += xgb_model.predict(xgb.DMatrix(df_test[df_train_columns]), ntree_limit=xgb_model.best_ntree_limit+50) / 10\\n    \\nnp.save(\\'oof_xgb\\', oof_xgb)\\nnp.save(\\'predictions_xgb\\', p...\n\u001b[0m",
            "\u001b[0;32m/usr/local/lib/python3.6/dist-packages/IPython/core/interactiveshell.py\u001b[0m in \u001b[0;36mrun_cell_magic\u001b[0;34m(self, magic_name, line, cell)\u001b[0m\n\u001b[1;32m   2115\u001b[0m             \u001b[0mmagic_arg_s\u001b[0m \u001b[0;34m=\u001b[0m \u001b[0mself\u001b[0m\u001b[0;34m.\u001b[0m\u001b[0mvar_expand\u001b[0m\u001b[0;34m(\u001b[0m\u001b[0mline\u001b[0m\u001b[0;34m,\u001b[0m \u001b[0mstack_depth\u001b[0m\u001b[0;34m)\u001b[0m\u001b[0;34m\u001b[0m\u001b[0;34m\u001b[0m\u001b[0m\n\u001b[1;32m   2116\u001b[0m             \u001b[0;32mwith\u001b[0m \u001b[0mself\u001b[0m\u001b[0;34m.\u001b[0m\u001b[0mbuiltin_trap\u001b[0m\u001b[0;34m:\u001b[0m\u001b[0;34m\u001b[0m\u001b[0;34m\u001b[0m\u001b[0m\n\u001b[0;32m-> 2117\u001b[0;31m                 \u001b[0mresult\u001b[0m \u001b[0;34m=\u001b[0m \u001b[0mfn\u001b[0m\u001b[0;34m(\u001b[0m\u001b[0mmagic_arg_s\u001b[0m\u001b[0;34m,\u001b[0m \u001b[0mcell\u001b[0m\u001b[0;34m)\u001b[0m\u001b[0;34m\u001b[0m\u001b[0;34m\u001b[0m\u001b[0m\n\u001b[0m\u001b[1;32m   2118\u001b[0m             \u001b[0;32mreturn\u001b[0m \u001b[0mresult\u001b[0m\u001b[0;34m\u001b[0m\u001b[0;34m\u001b[0m\u001b[0m\n\u001b[1;32m   2119\u001b[0m \u001b[0;34m\u001b[0m\u001b[0m\n",
            "\u001b[0;32m</usr/local/lib/python3.6/dist-packages/decorator.py:decorator-gen-60>\u001b[0m in \u001b[0;36mtime\u001b[0;34m(self, line, cell, local_ns)\u001b[0m\n",
            "\u001b[0;32m/usr/local/lib/python3.6/dist-packages/IPython/core/magic.py\u001b[0m in \u001b[0;36m<lambda>\u001b[0;34m(f, *a, **k)\u001b[0m\n\u001b[1;32m    186\u001b[0m     \u001b[0;31m# but it's overkill for just that one bit of state.\u001b[0m\u001b[0;34m\u001b[0m\u001b[0;34m\u001b[0m\u001b[0;34m\u001b[0m\u001b[0m\n\u001b[1;32m    187\u001b[0m     \u001b[0;32mdef\u001b[0m \u001b[0mmagic_deco\u001b[0m\u001b[0;34m(\u001b[0m\u001b[0marg\u001b[0m\u001b[0;34m)\u001b[0m\u001b[0;34m:\u001b[0m\u001b[0;34m\u001b[0m\u001b[0;34m\u001b[0m\u001b[0m\n\u001b[0;32m--> 188\u001b[0;31m         \u001b[0mcall\u001b[0m \u001b[0;34m=\u001b[0m \u001b[0;32mlambda\u001b[0m \u001b[0mf\u001b[0m\u001b[0;34m,\u001b[0m \u001b[0;34m*\u001b[0m\u001b[0ma\u001b[0m\u001b[0;34m,\u001b[0m \u001b[0;34m**\u001b[0m\u001b[0mk\u001b[0m\u001b[0;34m:\u001b[0m \u001b[0mf\u001b[0m\u001b[0;34m(\u001b[0m\u001b[0;34m*\u001b[0m\u001b[0ma\u001b[0m\u001b[0;34m,\u001b[0m \u001b[0;34m**\u001b[0m\u001b[0mk\u001b[0m\u001b[0;34m)\u001b[0m\u001b[0;34m\u001b[0m\u001b[0;34m\u001b[0m\u001b[0m\n\u001b[0m\u001b[1;32m    189\u001b[0m \u001b[0;34m\u001b[0m\u001b[0m\n\u001b[1;32m    190\u001b[0m         \u001b[0;32mif\u001b[0m \u001b[0mcallable\u001b[0m\u001b[0;34m(\u001b[0m\u001b[0marg\u001b[0m\u001b[0;34m)\u001b[0m\u001b[0;34m:\u001b[0m\u001b[0;34m\u001b[0m\u001b[0;34m\u001b[0m\u001b[0m\n",
            "\u001b[0;32m/usr/local/lib/python3.6/dist-packages/IPython/core/magics/execution.py\u001b[0m in \u001b[0;36mtime\u001b[0;34m(self, line, cell, local_ns)\u001b[0m\n\u001b[1;32m   1191\u001b[0m         \u001b[0;32melse\u001b[0m\u001b[0;34m:\u001b[0m\u001b[0;34m\u001b[0m\u001b[0;34m\u001b[0m\u001b[0m\n\u001b[1;32m   1192\u001b[0m             \u001b[0mst\u001b[0m \u001b[0;34m=\u001b[0m \u001b[0mclock2\u001b[0m\u001b[0;34m(\u001b[0m\u001b[0;34m)\u001b[0m\u001b[0;34m\u001b[0m\u001b[0;34m\u001b[0m\u001b[0m\n\u001b[0;32m-> 1193\u001b[0;31m             \u001b[0mexec\u001b[0m\u001b[0;34m(\u001b[0m\u001b[0mcode\u001b[0m\u001b[0;34m,\u001b[0m \u001b[0mglob\u001b[0m\u001b[0;34m,\u001b[0m \u001b[0mlocal_ns\u001b[0m\u001b[0;34m)\u001b[0m\u001b[0;34m\u001b[0m\u001b[0;34m\u001b[0m\u001b[0m\n\u001b[0m\u001b[1;32m   1194\u001b[0m             \u001b[0mend\u001b[0m \u001b[0;34m=\u001b[0m \u001b[0mclock2\u001b[0m\u001b[0;34m(\u001b[0m\u001b[0;34m)\u001b[0m\u001b[0;34m\u001b[0m\u001b[0;34m\u001b[0m\u001b[0m\n\u001b[1;32m   1195\u001b[0m             \u001b[0mout\u001b[0m \u001b[0;34m=\u001b[0m \u001b[0;32mNone\u001b[0m\u001b[0;34m\u001b[0m\u001b[0;34m\u001b[0m\u001b[0m\n",
            "\u001b[0;32m<timed exec>\u001b[0m in \u001b[0;36m<module>\u001b[0;34m()\u001b[0m\n",
            "\u001b[0;32m/usr/local/lib/python3.6/dist-packages/xgboost/training.py\u001b[0m in \u001b[0;36mtrain\u001b[0;34m(params, dtrain, num_boost_round, evals, obj, feval, maximize, early_stopping_rounds, evals_result, verbose_eval, xgb_model, callbacks, learning_rates)\u001b[0m\n\u001b[1;32m    214\u001b[0m                            \u001b[0mevals\u001b[0m\u001b[0;34m=\u001b[0m\u001b[0mevals\u001b[0m\u001b[0;34m,\u001b[0m\u001b[0;34m\u001b[0m\u001b[0;34m\u001b[0m\u001b[0m\n\u001b[1;32m    215\u001b[0m                            \u001b[0mobj\u001b[0m\u001b[0;34m=\u001b[0m\u001b[0mobj\u001b[0m\u001b[0;34m,\u001b[0m \u001b[0mfeval\u001b[0m\u001b[0;34m=\u001b[0m\u001b[0mfeval\u001b[0m\u001b[0;34m,\u001b[0m\u001b[0;34m\u001b[0m\u001b[0;34m\u001b[0m\u001b[0m\n\u001b[0;32m--> 216\u001b[0;31m                            xgb_model=xgb_model, callbacks=callbacks)\n\u001b[0m\u001b[1;32m    217\u001b[0m \u001b[0;34m\u001b[0m\u001b[0m\n\u001b[1;32m    218\u001b[0m \u001b[0;34m\u001b[0m\u001b[0m\n",
            "\u001b[0;32m/usr/local/lib/python3.6/dist-packages/xgboost/training.py\u001b[0m in \u001b[0;36m_train_internal\u001b[0;34m(params, dtrain, num_boost_round, evals, obj, feval, xgb_model, callbacks)\u001b[0m\n\u001b[1;32m     72\u001b[0m         \u001b[0;31m# Skip the first update if it is a recovery step.\u001b[0m\u001b[0;34m\u001b[0m\u001b[0;34m\u001b[0m\u001b[0;34m\u001b[0m\u001b[0m\n\u001b[1;32m     73\u001b[0m         \u001b[0;32mif\u001b[0m \u001b[0mversion\u001b[0m \u001b[0;34m%\u001b[0m \u001b[0;36m2\u001b[0m \u001b[0;34m==\u001b[0m \u001b[0;36m0\u001b[0m\u001b[0;34m:\u001b[0m\u001b[0;34m\u001b[0m\u001b[0;34m\u001b[0m\u001b[0m\n\u001b[0;32m---> 74\u001b[0;31m             \u001b[0mbst\u001b[0m\u001b[0;34m.\u001b[0m\u001b[0mupdate\u001b[0m\u001b[0;34m(\u001b[0m\u001b[0mdtrain\u001b[0m\u001b[0;34m,\u001b[0m \u001b[0mi\u001b[0m\u001b[0;34m,\u001b[0m \u001b[0mobj\u001b[0m\u001b[0;34m)\u001b[0m\u001b[0;34m\u001b[0m\u001b[0;34m\u001b[0m\u001b[0m\n\u001b[0m\u001b[1;32m     75\u001b[0m             \u001b[0mbst\u001b[0m\u001b[0;34m.\u001b[0m\u001b[0msave_rabit_checkpoint\u001b[0m\u001b[0;34m(\u001b[0m\u001b[0;34m)\u001b[0m\u001b[0;34m\u001b[0m\u001b[0;34m\u001b[0m\u001b[0m\n\u001b[1;32m     76\u001b[0m             \u001b[0mversion\u001b[0m \u001b[0;34m+=\u001b[0m \u001b[0;36m1\u001b[0m\u001b[0;34m\u001b[0m\u001b[0;34m\u001b[0m\u001b[0m\n",
            "\u001b[0;32m/usr/local/lib/python3.6/dist-packages/xgboost/core.py\u001b[0m in \u001b[0;36mupdate\u001b[0;34m(self, dtrain, iteration, fobj)\u001b[0m\n\u001b[1;32m   1107\u001b[0m         \u001b[0;32mif\u001b[0m \u001b[0mfobj\u001b[0m \u001b[0;32mis\u001b[0m \u001b[0;32mNone\u001b[0m\u001b[0;34m:\u001b[0m\u001b[0;34m\u001b[0m\u001b[0;34m\u001b[0m\u001b[0m\n\u001b[1;32m   1108\u001b[0m             _check_call(_LIB.XGBoosterUpdateOneIter(self.handle, ctypes.c_int(iteration),\n\u001b[0;32m-> 1109\u001b[0;31m                                                     dtrain.handle))\n\u001b[0m\u001b[1;32m   1110\u001b[0m         \u001b[0;32melse\u001b[0m\u001b[0;34m:\u001b[0m\u001b[0;34m\u001b[0m\u001b[0;34m\u001b[0m\u001b[0m\n\u001b[1;32m   1111\u001b[0m             \u001b[0mpred\u001b[0m \u001b[0;34m=\u001b[0m \u001b[0mself\u001b[0m\u001b[0;34m.\u001b[0m\u001b[0mpredict\u001b[0m\u001b[0;34m(\u001b[0m\u001b[0mdtrain\u001b[0m\u001b[0;34m)\u001b[0m\u001b[0;34m\u001b[0m\u001b[0;34m\u001b[0m\u001b[0m\n",
            "\u001b[0;31mKeyboardInterrupt\u001b[0m: "
          ]
        }
      ]
    },
    {
      "cell_type": "code",
      "metadata": {
        "id": "xT90I4zZ-6in",
        "colab_type": "code",
        "colab": {}
      },
      "source": [
        ""
      ],
      "execution_count": 0,
      "outputs": []
    }
  ]
}